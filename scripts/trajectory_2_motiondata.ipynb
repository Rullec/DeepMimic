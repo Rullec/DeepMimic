{
 "cells": [
  {
   "cell_type": "code",
   "execution_count": 15,
   "metadata": {},
   "outputs": [
    {
     "name": "stdout",
     "output_type": "stream",
     "text": [
      "[log] output motion data to E:\\VS2017Projects\\DeepMimic\\data\\1107\\motions\\2019-11-07_14-17-43.158335.json\n",
      "[log] output motion data to E:\\VS2017Projects\\DeepMimic\\data\\1107\\motions\\2019-11-07_14-17-44.227521.json\n",
      "[log] output motion data to E:\\VS2017Projects\\DeepMimic\\data\\1107\\motions\\2019-11-07_14-17-45.290219.json\n",
      "[log] output motion data to E:\\VS2017Projects\\DeepMimic\\data\\1107\\motions\\2019-11-07_14-17-46.359405.json\n",
      "[log] output motion data to E:\\VS2017Projects\\DeepMimic\\data\\1107\\motions\\2019-11-07_14-17-47.423606.json\n",
      "[log] output motion data to E:\\VS2017Projects\\DeepMimic\\data\\1107\\motions\\2019-11-07_14-17-48.485305.json\n",
      "[log] output motion data to E:\\VS2017Projects\\DeepMimic\\data\\1107\\motions\\2019-11-07_14-17-49.543521.json\n",
      "[log] output motion data to E:\\VS2017Projects\\DeepMimic\\data\\1107\\motions\\2019-11-07_14-17-50.609264.json\n",
      "[log] output motion data to E:\\VS2017Projects\\DeepMimic\\data\\1107\\motions\\2019-11-07_14-17-51.674461.json\n",
      "[log] output motion data to E:\\VS2017Projects\\DeepMimic\\data\\1107\\motions\\2019-11-07_14-17-52.739152.json\n",
      "[log] output motion data to E:\\VS2017Projects\\DeepMimic\\data\\1107\\motions\\2019-11-07_14-17-53.797390.json\n",
      "[log] output motion data to E:\\VS2017Projects\\DeepMimic\\data\\1107\\motions\\2019-11-07_14-17-54.855606.json\n"
     ]
    }
   ],
   "source": [
    "import json\n",
    "import os\n",
    "import re\n",
    "\n",
    "def LoadTrajectory(filename):\n",
    "    with open(filename, \"r\") as f:\n",
    "        root = json.load(f)\n",
    "        poses = root[\"poses\"]\n",
    "        for id, value in enumerate(poses):\n",
    "            poses[id] = [round(v, 6) for v in value]\n",
    "        #print(poses)\n",
    "        return poses\n",
    "\n",
    "def OutputMotionData(filename, poses):\n",
    "        print(\"[log] output motion data to %s\" % filename)\n",
    "        if os.path.exists(filename):\n",
    "            os.remove(filename)\n",
    "        root = {\"Loop\" : \"none\", \"Frames\" : poses}\n",
    "        with open(filename, \"w\") as f:\n",
    "            root_str = json.dumps(root)\n",
    "            #root_str = re.sub('\\[', '\\n[', root_str)\n",
    "            root_str = re.sub('\\],', '],\\n', root_str)\n",
    "            f.write(root_str)\n",
    "            \n",
    "trajectory_dir = \"E:\\VS2017Projects\\DeepMimic\\logs\\paths\"\n",
    "motion_dir = \"E:\\VS2017Projects\\DeepMimic\\data\\\\1107\\motions\"\n",
    "trajectory_files = os.listdir(trajectory_dir)\n",
    "for i in trajectory_files:\n",
    "    pose = LoadTrajectory(os.path.join(trajectory_dir, i))\n",
    "    motion_file = os.path.join(motion_dir, i)\n",
    "    OutputMotionData(motion_file, pose)"
   ]
  }
 ],
 "metadata": {
  "kernelspec": {
   "display_name": "Python 3",
   "language": "python",
   "name": "python3"
  },
  "language_info": {
   "codemirror_mode": {
    "name": "ipython",
    "version": 3
   },
   "file_extension": ".py",
   "mimetype": "text/x-python",
   "name": "python",
   "nbconvert_exporter": "python",
   "pygments_lexer": "ipython3",
   "version": "3.6.8"
  }
 },
 "nbformat": 4,
 "nbformat_minor": 2
}
